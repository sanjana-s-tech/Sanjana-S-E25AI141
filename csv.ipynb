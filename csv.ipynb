{
  "nbformat": 4,
  "nbformat_minor": 0,
  "metadata": {
    "colab": {
      "provenance": [],
      "authorship_tag": "ABX9TyOYIUzSUgraL2J7XHWdLHi8",
      "include_colab_link": true
    },
    "kernelspec": {
      "name": "python3",
      "display_name": "Python 3"
    },
    "language_info": {
      "name": "python"
    }
  },
  "cells": [
    {
      "cell_type": "markdown",
      "metadata": {
        "id": "view-in-github",
        "colab_type": "text"
      },
      "source": [
        "<a href=\"https://colab.research.google.com/github/sanjana-s-tech/Sanjana-S-E25AI141/blob/main/csv.ipynb\" target=\"_parent\"><img src=\"https://colab.research.google.com/assets/colab-badge.svg\" alt=\"Open In Colab\"/></a>"
      ]
    },
    {
      "cell_type": "code",
      "execution_count": null,
      "metadata": {
        "id": "rHMZSwdHuzGo"
      },
      "outputs": [],
      "source": [
        "import pandas as pd\n",
        "import numpy as np"
      ]
    },
    {
      "cell_type": "code",
      "source": [
        "#Read from CSV\n",
        "df=pd.read_csv('WEEK 2 PROJECT DATA.csv')"
      ],
      "metadata": {
        "id": "zU8r0XF2Du_-"
      },
      "execution_count": null,
      "outputs": []
    },
    {
      "cell_type": "code",
      "source": [
        "#Find null values\n",
        "print(df.isnull().sum())"
      ],
      "metadata": {
        "colab": {
          "base_uri": "https://localhost:8080/"
        },
        "id": "P1im5w1HD_KU",
        "outputId": "6e232fb3-b6ae-4ec2-badd-c3df5c1f3f69"
      },
      "execution_count": null,
      "outputs": [
        {
          "output_type": "stream",
          "name": "stdout",
          "text": [
            "Pammal    2\n",
            "DHONI     0\n",
            "100000    4\n",
            "dtype: int64\n"
          ]
        }
      ]
    },
    {
      "cell_type": "code",
      "source": [
        "#Replacing numeric null values with mean\n",
        "df_fill_mean = df.fillna(df.mean(numeric_only=True))\n",
        "print(\"\\nDataset after Replacing Numeric Missing Values with Mean:\\n\", df_fill_mean.head())\n"
      ],
      "metadata": {
        "colab": {
          "base_uri": "https://localhost:8080/"
        },
        "id": "mpwDSQdEEPqf",
        "outputId": "98ca8ece-a708-400f-b28e-791717898270"
      },
      "execution_count": null,
      "outputs": [
        {
          "output_type": "stream",
          "name": "stdout",
          "text": [
            "\n",
            "Dataset after Replacing Numeric Missing Values with Mean:\n",
            "         Pammal   DHONI   100000\n",
            "0        avadi   virat  77000.0\n",
            "1  pozhichalur  pandya  55000.0\n",
            "2        Avadi  Krunal  52000.0\n",
            "3       musiri  manish  60000.0\n",
            "4       trichy  chahar  43000.0\n"
          ]
        }
      ]
    },
    {
      "cell_type": "code",
      "source": [
        "#Replacing categorical null values with mode\n",
        "df_fill_const = df.fillna(\"Unknown\")\n",
        "print(\"\\nDataset after Replacing Missing Values with Constant:\\n\", df_fill_const.head())\n"
      ],
      "metadata": {
        "colab": {
          "base_uri": "https://localhost:8080/"
        },
        "id": "RIcD8VHRE74h",
        "outputId": "a4a7f15f-7917-4c94-f8bb-882267d6760b"
      },
      "execution_count": null,
      "outputs": [
        {
          "output_type": "stream",
          "name": "stdout",
          "text": [
            "\n",
            "Dataset after Replacing Missing Values with Constant:\n",
            "         Pammal   DHONI   100000\n",
            "0        avadi   virat  77000.0\n",
            "1  pozhichalur  pandya  55000.0\n",
            "2        Avadi  Krunal  52000.0\n",
            "3       musiri  manish  60000.0\n",
            "4       trichy  chahar  43000.0\n"
          ]
        }
      ]
    },
    {
      "cell_type": "code",
      "source": [
        "#write it to a cleaned CSV file\n",
        "df.to_csv(index=False)"
      ],
      "metadata": {
        "colab": {
          "base_uri": "https://localhost:8080/",
          "height": 87
        },
        "id": "1RuapBCHFJaW",
        "outputId": "6814e2c5-5fd3-4ad8-de97-49cb33e955ab"
      },
      "execution_count": null,
      "outputs": [
        {
          "output_type": "execute_result",
          "data": {
            "text/plain": [
              "'Pammal,DHONI,100000\\navadi,virat,77000.0\\npozhichalur,pandya,55000.0\\nAvadi,Krunal,52000.0\\nmusiri,manish,60000.0\\ntrichy,chahar,43000.0\\nOMR,sam,\\n,tom,33000.0\\nvandalur,pathirana,41000.0\\nbeanagar,jadeja,\\nOMR,raina,70000.0\\nOMR,Rohit,\\nvillupuram,bravo,45000.0\\n,ashwin,76000.0\\ntrichy,Hussey,66000.0\\nandhra,gaile,30000.0\\nnagore,SKY,75000.0\\ntrichy,noor,52000.0\\npondicherry,chahal,\\ntrichy,sanju,45000.0\\n'"
            ],
            "application/vnd.google.colaboratory.intrinsic+json": {
              "type": "string"
            }
          },
          "metadata": {},
          "execution_count": 7
        }
      ]
    }
  ]
}